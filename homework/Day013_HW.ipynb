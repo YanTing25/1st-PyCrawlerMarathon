{
 "cells": [
  {
   "cell_type": "markdown",
   "metadata": {},
   "source": [
    "# PTT 網路爬蟲實作練習\n",
    "\n",
    "\n",
    "* 能夠利用 Request + BeatifulSour 撰寫爬蟲，並存放到合適的資料結構\n"
   ]
  },
  {
   "cell_type": "markdown",
   "metadata": {},
   "source": [
    "## 作業目標\n",
    "\n",
    "根據範例 ，完成以下問題：\n",
    "\n",
    "* ① 印出最新文章的「作者」「標題」「時間」\n",
    "* ② 印出第一頁所有文章的「作者」「標題」「時間」\n"
   ]
  },
  {
   "cell_type": "markdown",
   "metadata": {},
   "source": [
    "### ① 印出最新文章的「作者」「標題」「時間」"
   ]
  },
  {
   "cell_type": "code",
   "execution_count": 4,
   "metadata": {},
   "outputs": [],
   "source": [
    "import requests\n",
    "from bs4 import BeautifulSoup\n",
    "import pandas as pd"
   ]
  },
  {
   "cell_type": "code",
   "execution_count": 6,
   "metadata": {},
   "outputs": [
    {
     "name": "stdout",
     "output_type": "stream",
     "text": [
      "                                            title        author   date\n",
      "0                                    [公告] 水桶      dragon803   1/17\n",
      "1                             [情報] 老鷹灰狼交易     dragon803   1/17\n",
      "2                   [情報] 明星賽第三階段投票出爐     NSYSUheng   1/17\n",
      "3     [情報] 老鷹活塞交易 Andre Drummond 宣告破局       Malpais   1/17\n",
      "4           [情報] Shams：灰狼正加強對於DLO的追求     Angel0724   1/17\n",
      "5                              [Live] 太陽 @ 尼克         Rambo   1/17\n",
      "6   [情報] Luka Doncic 擔任斯洛維尼亞觀光旅遊大使      Aotearoa   1/17\n",
      "7                              [Live] 超賽 @ 公鹿         Rambo   1/17\n",
      "8                              [Live] 爵士 @ 鵜鶘         Rambo   1/17\n",
      "9       Re: [情報] Shams：灰狼正加強對於DLO的追求       permoon   1/17\n",
      "10   [情報] Ainge談交易：現在還早，沒有其他幾年那     s27052705   1/17\n",
      "11                                [公告] 板規v6.8         Vedan   5/24\n",
      "12              [公告] 樂透取消及未來不再開啟樂透         Vedan   6/24\n",
      "13                       [公告] 版主上任相關事項   qazwsx879345  10/25\n",
      "14     [情報] SEASON Schedule 賽程 January 19–20       Acetoxy   1/03\n"
     ]
    }
   ],
   "source": [
    "'''\n",
    "Your Code\n",
    "'''\n",
    "\n",
    "url = 'https://www.ptt.cc/bbs/NBA/index.html'\n",
    "r = requests.get(url)\n",
    "\n",
    "soup = BeautifulSoup(r.text, \"html5lib\")\n",
    "\n",
    "titles=[]\n",
    "authors=[]\n",
    "dates=[]\n",
    "for post in soup.find_all('div',class_='r-ent'):\n",
    "    if post.find('div',class_='title').find('a'):\n",
    "        titles.append(post.find('div',class_='title').a.text)\n",
    "    else:\n",
    "        continue\n",
    "    authors.append(post.find('div',class_='author').text)\n",
    "    dates.append(post.find('div',class_='date').text)\n",
    "dict={\n",
    "      'title':titles,\n",
    "      'author':authors,\n",
    "      'date':dates\n",
    "      }\n",
    "\n",
    "table=pd.DataFrame(dict)\n",
    "pd.set_option('display.unicode.ambiguous_as_wide', True)\n",
    "pd.set_option('display.unicode.east_asian_width', True)\n",
    "print(table)\n",
    "\n"
   ]
  },
  {
   "cell_type": "markdown",
   "metadata": {},
   "source": [
    "### ② 印出第一頁所有文章的「作者」「標題」「時間」"
   ]
  },
  {
   "cell_type": "code",
   "execution_count": 7,
   "metadata": {},
   "outputs": [
    {
     "name": "stdout",
     "output_type": "stream",
     "text": [
      "                                            title      author   date\n",
      "0            [轉錄]Lyotard 對於太陽板討論串的結論       Price   5/16\n",
      "1             [公告] 請停止一切關於本次活動的發言       Price   5/31\n",
      "2   [轉錄]跟之前那篇比起來 我覺得這篇也應該轉過來    Frankaze   6/08\n",
      "3                            [轉錄]再轉一篇好文來    Frankaze   6/08\n",
      "4                     [轉錄][情報] 夏洛特山貓系列       Price   6/10\n",
      "5             [轉錄]Re: [心得] 真是受不了糗爺....       Price   6/10\n",
      "6                        [轉錄]總冠軍賽NO.2觀後感       Price   6/10\n",
      "7                          [心得] Rasheed Wallace  AmuroNamie   6/11\n",
      "8                                  掌控球賽的男人     toptree   6/12\n",
      "9                 [閒聊] 說說2004季後賽名場面回顧     skchang   6/12\n",
      "10       [心得] 其實說穿了 就是活塞的防守太可怕了     shineup   6/12\n",
      "11            Re: [閒聊] 說說2004季後賽名場面回顧        cOvi   6/12\n",
      "12            Re: [閒聊] 說說2004季後賽名場面回顧      ykshih   6/12\n",
      "13            Re: [閒聊] 說說2004季後賽名場面回顧    Frankaze   6/12\n",
      "14                   [轉錄]Re: 總冠軍賽NO.3觀後感       Price   6/14\n",
      "15                   [轉錄]Re: 總冠軍賽NO.3觀後感    Frankaze   6/14\n",
      "16               Re: [轉錄]Re: 總冠軍賽NO.3觀後感       star1   6/14\n",
      "17               Re: [轉錄]Re: 總冠軍賽NO.3觀後感  coldspring   6/14\n",
      "18                      Re: Kobe is frustrated...     airbear   6/14\n",
      "19               Re: [轉錄]Re: 總冠軍賽NO.3觀後感   pennykidd   6/14\n"
     ]
    }
   ],
   "source": [
    "'''\n",
    "Your Code\n",
    "'''\n",
    "url = 'https://www.ptt.cc/bbs/NBA/index1.html'\n",
    "r = requests.get(url)\n",
    "\n",
    "soup_page_one = BeautifulSoup(r.text, \"html5lib\")\n",
    "\n",
    "titles=[]\n",
    "authors=[]\n",
    "dates=[]\n",
    "for post in soup_page_one.find_all('div',class_='r-ent'):\n",
    "    if post.find('div',class_='title').find('a'):\n",
    "        titles.append(post.find('div',class_='title').a.text)\n",
    "    else:\n",
    "        continue\n",
    "    authors.append(post.find('div',class_='author').text)\n",
    "    dates.append(post.find('div',class_='date').text)\n",
    "dict={\n",
    "      'title':titles,\n",
    "      'author':authors,\n",
    "      'date':dates\n",
    "      }\n",
    "\n",
    "table_page_one=pd.DataFrame(dict)\n",
    "pd.set_option('display.unicode.ambiguous_as_wide', True)\n",
    "pd.set_option('display.unicode.east_asian_width', True)\n",
    "print(table_page_one)"
   ]
  },
  {
   "cell_type": "markdown",
   "metadata": {},
   "source": [
    "### ③ 試著爬爬看其他版的文章"
   ]
  },
  {
   "cell_type": "code",
   "execution_count": 9,
   "metadata": {},
   "outputs": [
    {
     "name": "stdout",
     "output_type": "stream",
     "text": [
      "                                             title        author   date\n",
      "0                 [選片] 重磅腥聞  vs 不完美的正義     robust083   1/16\n",
      "1   [新聞] 傑森摩莫亞報喜！水行俠2體能訓練正式開跑    hvariables   1/16\n",
      "2    [新聞] 《黑寡婦》大衛哈伯談紅色守護者：像父親       CYKONGG   1/17\n",
      "3                   [好雷] 夢幻般的憧憬-逃出天堂島   et001122000   1/17\n",
      "4      Re: [討論] 燃燒女子的畫像－細節討論（有雷）       a031405   1/17\n",
      "5     [贈票] ｛哥哥戀愛了，我怎麼辦！？｝首3日交換     ayami0219   1/17\n",
      "6          [討論] 關於星戰有人誤以為天行者是稱號嗎       sshyang   1/17\n",
      "7               [普雷] 絕地戰警3-模仿終究只是模仿       ckshchen   1/17\n",
      "8                  [片單] 邏輯性台詞電影（轉場少）     marsonele   1/17\n",
      "9                           [討論] 葉問4的劇情疑問  davidchen329   1/17\n",
      "10          [情報] iTunes多部$90起 淑女鳥.驚奇隊長        tryzji   1/17\n",
      "11   [討論]Guns Akimbo，比魔杖更好用的電影預告釋出      leeberty   1/17\n",
      "12               Fw: [情報] 秀泰影城新仁店排隊人潮      ding2599   1/17\n",
      "13                          [公告] 板規 2019/12/30      ckshchen   6/04\n",
      "14                 [公告] 板規新增每日發文上限規定        hhwang   8/15\n",
      "15                         [公告] 獎季發文限制放寬        hhwang  12/17\n",
      "16              [公告] 請注意發文格式 標題不要爆雷       kai3368  12/23\n",
      "17                               [公告] 關於跑步哥      ckshchen   1/11\n"
     ]
    }
   ],
   "source": [
    "'''\n",
    "Your Code\n",
    "'''\n",
    "url='https://www.ptt.cc/bbs/movie/index.html'\n",
    "r = requests.get(url)\n",
    "\n",
    "soup_movies = BeautifulSoup(r.text, \"html5lib\")\n",
    "\n",
    "titles=[]\n",
    "authors=[]\n",
    "dates=[]\n",
    "for post in soup_movies.find_all('div',class_='r-ent'):\n",
    "    if post.find('div',class_='title').find('a'):\n",
    "        titles.append(post.find('div',class_='title').a.text)\n",
    "    else:\n",
    "        continue\n",
    "    authors.append(post.find('div',class_='author').text)\n",
    "    dates.append(post.find('div',class_='date').text)\n",
    "dict={\n",
    "      'title':titles,\n",
    "      'author':authors,\n",
    "      'date':dates\n",
    "      }\n",
    "\n",
    "table_movies=pd.DataFrame(dict)\n",
    "pd.set_option('display.unicode.ambiguous_as_wide', True)\n",
    "pd.set_option('display.unicode.east_asian_width', True)\n",
    "print(table_movies)"
   ]
  },
  {
   "cell_type": "code",
   "execution_count": null,
   "metadata": {},
   "outputs": [],
   "source": []
  }
 ],
 "metadata": {
  "kernelspec": {
   "display_name": "Python 3",
   "language": "python",
   "name": "python3"
  },
  "language_info": {
   "codemirror_mode": {
    "name": "ipython",
    "version": 3
   },
   "file_extension": ".py",
   "mimetype": "text/x-python",
   "name": "python",
   "nbconvert_exporter": "python",
   "pygments_lexer": "ipython3",
   "version": "3.7.4"
  }
 },
 "nbformat": 4,
 "nbformat_minor": 2
}

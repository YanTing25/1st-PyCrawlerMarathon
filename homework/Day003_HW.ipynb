{
 "cells": [
  {
   "cell_type": "markdown",
   "metadata": {},
   "source": [
    "# Python 下載XML檔案與解析\n",
    "\n",
    "\n",
    "* 了解 xml 檔案格式與內容\n",
    "* 能夠利用套件存取 xml 格式的檔案\n"
   ]
  },
  {
   "cell_type": "markdown",
   "metadata": {},
   "source": [
    "## 作業目標\n",
    "\n",
    "* 比較一下範例檔案中的「File I/O」與「xmltodict」讀出來的內容有什麼差異\n",
    "\n",
    "* 根據範例檔案的結果：\n",
    "    1. 請問高雄市有多少地區有溫度資料？\n",
    "    2. 請取出每一個地區所記錄的第一個時間點跟溫度\n",
    "    3. 請取出第一個地區所記錄的每一個時間點跟溫度"
   ]
  },
  {
   "cell_type": "markdown",
   "metadata": {},
   "source": [
    "### 比較一下範例檔案中的「File I/O」與「xmltodict」讀出來的內容有什麼差異\n"
   ]
  },
  {
   "cell_type": "code",
   "execution_count": 1,
   "metadata": {},
   "outputs": [],
   "source": [
    "import xmltodict"
   ]
  },
  {
   "cell_type": "code",
   "execution_count": 2,
   "metadata": {},
   "outputs": [
    {
     "name": "stdout",
     "output_type": "stream",
     "text": [
      "<?xml version=\"1.0\" encoding=\"UTF-8\"?>\n",
      "<CUPOY>\n",
      "    <Title>爬蟲馬拉松</Title>\n",
      "    <Author>Wei</Author>\n",
      "    <Chapters>\n",
      "        <Chapter name=\"01\">資料來源與存取</Chapter>\n",
      "        <Chapter name=\"02\">靜態網頁爬蟲</Chapter>\n",
      "        <Chapter name=\"03\">動態網頁爬蟲</Chapter>\n",
      "    </Chapters>\n",
      "</CUPOY>\n"
     ]
    }
   ],
   "source": [
    "'''\n",
    "Your Code\n",
    "'''\n",
    "with open (\"../Data/sample.xml\",\"r\",encoding=\"utf-8\") as f:\n",
    "    print(f.read())"
   ]
  },
  {
   "cell_type": "code",
   "execution_count": 3,
   "metadata": {},
   "outputs": [
    {
     "name": "stdout",
     "output_type": "stream",
     "text": [
      "爬蟲馬拉松\n",
      "01 資料來源與存取\n",
      "02 靜態網頁爬蟲\n",
      "03 動態網頁爬蟲\n"
     ]
    }
   ],
   "source": [
    "with open (\"../Data/sample.xml\",encoding=\"utf-8\") as fd:\n",
    "    doc=dict(xmltodict.parse(fd.read()))\n",
    "print(doc['CUPOY']['Title'])\n",
    "chapters=doc['CUPOY']['Chapters']['Chapter']\n",
    "for chapter in chapters:\n",
    "    print(chapter['@name'],chapter['#text'])"
   ]
  },
  {
   "cell_type": "markdown",
   "metadata": {},
   "source": [
    "### 根據範例檔案的結果：\n",
    "\n",
    "1. 請問高雄市有多少地區有溫度資料？\n",
    "2. 請取出每一個地區所記錄的第一個時間點跟溫度\n",
    "3. 請取出第一個地區所記錄的每一個時間點跟溫度"
   ]
  },
  {
   "cell_type": "code",
   "execution_count": 5,
   "metadata": {},
   "outputs": [
    {
     "name": "stdout",
     "output_type": "stream",
     "text": [
      "共計: 38 筆\n"
     ]
    }
   ],
   "source": [
    "# 1. 請問高雄市有多少地區有溫度資料？\n",
    "\n",
    "'''\n",
    "Your Code\n",
    "'''\n",
    "with open (\"../Data/64_72hr_CH.xml\",encoding=\"utf-8\") as f:\n",
    "    doc2=dict(xmltodict.parse(f.read()))\n",
    "locations=doc2['cwbopendata']['dataset']['locations']['location']\n",
    "count=0\n",
    "for location in locations:\n",
    "    for weather in location['weatherElement']:\n",
    "        if weather['description']==\"溫度\":\n",
    "            count+=1\n",
    "print(\"共計: \"+str(count)+\" 筆\")"
   ]
  },
  {
   "cell_type": "code",
   "execution_count": 7,
   "metadata": {},
   "outputs": [
    {
     "name": "stdout",
     "output_type": "stream",
     "text": [
      "鹽埕區\t2019-06-28T12:00:00+08:00\t33\t攝氏度\n",
      "鼓山區\t2019-06-28T12:00:00+08:00\t33\t攝氏度\n",
      "左營區\t2019-06-28T12:00:00+08:00\t33\t攝氏度\n",
      "楠梓區\t2019-06-28T12:00:00+08:00\t34\t攝氏度\n",
      "三民區\t2019-06-28T12:00:00+08:00\t32\t攝氏度\n",
      "新興區\t2019-06-28T12:00:00+08:00\t33\t攝氏度\n",
      "前金區\t2019-06-28T12:00:00+08:00\t33\t攝氏度\n",
      "苓雅區\t2019-06-28T12:00:00+08:00\t33\t攝氏度\n",
      "前鎮區\t2019-06-28T12:00:00+08:00\t33\t攝氏度\n",
      "旗津區\t2019-06-28T12:00:00+08:00\t32\t攝氏度\n",
      "小港區\t2019-06-28T12:00:00+08:00\t33\t攝氏度\n",
      "鳳山區\t2019-06-28T12:00:00+08:00\t34\t攝氏度\n",
      "林園區\t2019-06-28T12:00:00+08:00\t33\t攝氏度\n",
      "大寮區\t2019-06-28T12:00:00+08:00\t34\t攝氏度\n",
      "大樹區\t2019-06-28T12:00:00+08:00\t34\t攝氏度\n",
      "大社區\t2019-06-28T12:00:00+08:00\t34\t攝氏度\n",
      "仁武區\t2019-06-28T12:00:00+08:00\t33\t攝氏度\n",
      "鳥松區\t2019-06-28T12:00:00+08:00\t34\t攝氏度\n",
      "岡山區\t2019-06-28T12:00:00+08:00\t34\t攝氏度\n",
      "橋頭區\t2019-06-28T12:00:00+08:00\t35\t攝氏度\n",
      "燕巢區\t2019-06-28T12:00:00+08:00\t34\t攝氏度\n",
      "田寮區\t2019-06-28T12:00:00+08:00\t34\t攝氏度\n",
      "阿蓮區\t2019-06-28T12:00:00+08:00\t34\t攝氏度\n",
      "路竹區\t2019-06-28T12:00:00+08:00\t33\t攝氏度\n",
      "湖內區\t2019-06-28T12:00:00+08:00\t33\t攝氏度\n",
      "茄萣區\t2019-06-28T12:00:00+08:00\t33\t攝氏度\n",
      "永安區\t2019-06-28T12:00:00+08:00\t32\t攝氏度\n",
      "彌陀區\t2019-06-28T12:00:00+08:00\t32\t攝氏度\n",
      "梓官區\t2019-06-28T12:00:00+08:00\t32\t攝氏度\n",
      "旗山區\t2019-06-28T12:00:00+08:00\t34\t攝氏度\n",
      "美濃區\t2019-06-28T12:00:00+08:00\t34\t攝氏度\n",
      "六龜區\t2019-06-28T12:00:00+08:00\t34\t攝氏度\n",
      "甲仙區\t2019-06-28T12:00:00+08:00\t33\t攝氏度\n",
      "杉林區\t2019-06-28T12:00:00+08:00\t36\t攝氏度\n",
      "內門區\t2019-06-28T12:00:00+08:00\t34\t攝氏度\n",
      "茂林區\t2019-06-28T12:00:00+08:00\t34\t攝氏度\n",
      "桃源區\t2019-06-28T12:00:00+08:00\t31\t攝氏度\n",
      "那瑪夏區\t2019-06-28T12:00:00+08:00\t29\t攝氏度\n"
     ]
    }
   ],
   "source": [
    "# 2. 請取出每一個地區所記錄的第一個時間點跟溫度\n",
    "\n",
    "'''\n",
    "Your Code\n",
    "'''\n",
    "for location in locations:\n",
    "    print(location['locationName']+\"\\t\"\n",
    "        +location['weatherElement'][0]['time'][0]['dataTime']+\"\\t\"\n",
    "        +location['weatherElement'][0]['time'][0]['elementValue']['value']+\"\\t\"\n",
    "        +location['weatherElement'][0]['time'][0]['elementValue']['measures'])"
   ]
  },
  {
   "cell_type": "code",
   "execution_count": 8,
   "metadata": {},
   "outputs": [
    {
     "name": "stdout",
     "output_type": "stream",
     "text": [
      "鹽埕區 每一個時間點跟溫度:\n",
      "2019-06-28T12:00:00+08:00\t33\t攝氏度\n",
      "2019-06-28T15:00:00+08:00\t33\t攝氏度\n",
      "2019-06-28T18:00:00+08:00\t32\t攝氏度\n",
      "2019-06-28T21:00:00+08:00\t30\t攝氏度\n",
      "2019-06-29T00:00:00+08:00\t30\t攝氏度\n",
      "2019-06-29T03:00:00+08:00\t29\t攝氏度\n",
      "2019-06-29T06:00:00+08:00\t28\t攝氏度\n",
      "2019-06-29T09:00:00+08:00\t31\t攝氏度\n",
      "2019-06-29T12:00:00+08:00\t32\t攝氏度\n",
      "2019-06-29T15:00:00+08:00\t32\t攝氏度\n",
      "2019-06-29T18:00:00+08:00\t31\t攝氏度\n",
      "2019-06-29T21:00:00+08:00\t30\t攝氏度\n",
      "2019-06-30T00:00:00+08:00\t29\t攝氏度\n",
      "2019-06-30T03:00:00+08:00\t28\t攝氏度\n",
      "2019-06-30T06:00:00+08:00\t28\t攝氏度\n",
      "2019-06-30T09:00:00+08:00\t31\t攝氏度\n",
      "2019-06-30T12:00:00+08:00\t32\t攝氏度\n",
      "2019-06-30T15:00:00+08:00\t32\t攝氏度\n",
      "2019-06-30T18:00:00+08:00\t31\t攝氏度\n",
      "2019-06-30T21:00:00+08:00\t30\t攝氏度\n",
      "2019-07-01T00:00:00+08:00\t29\t攝氏度\n",
      "2019-07-01T03:00:00+08:00\t29\t攝氏度\n",
      "2019-07-01T06:00:00+08:00\t28\t攝氏度\n",
      "2019-07-01T09:00:00+08:00\t31\t攝氏度\n"
     ]
    }
   ],
   "source": [
    "# 3. 請取出第一個地區所記錄的每一個時間點跟溫度\n",
    "\n",
    "'''\n",
    "Your Code\n",
    "'''\n",
    "location=locations[0]\n",
    "temps=location['weatherElement'][0]['time']\n",
    "print(location['locationName']+\" 每一個時間點跟溫度:\")\n",
    "for data in temps:\n",
    "    print(data['dataTime']+\"\\t\"+data['elementValue']['value']+\"\\t\"+data['elementValue']['measures'])"
   ]
  },
  {
   "cell_type": "code",
   "execution_count": null,
   "metadata": {},
   "outputs": [],
   "source": []
  }
 ],
 "metadata": {
  "kernelspec": {
   "display_name": "Python 3",
   "language": "python",
   "name": "python3"
  },
  "language_info": {
   "codemirror_mode": {
    "name": "ipython",
    "version": 3
   },
   "file_extension": ".py",
   "mimetype": "text/x-python",
   "name": "python",
   "nbconvert_exporter": "python",
   "pygments_lexer": "ipython3",
   "version": "3.7.4"
  }
 },
 "nbformat": 4,
 "nbformat_minor": 2
}

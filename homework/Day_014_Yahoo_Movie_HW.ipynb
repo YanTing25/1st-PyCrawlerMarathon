{
 "cells": [
  {
   "cell_type": "markdown",
   "metadata": {},
   "source": [
    "# YAHOO電影爬蟲練習\n",
    "## 練習爬取電影放映資訊。必須逐步獲取電影的代號、放映地區、放映日期後，再送出查詢給伺服器。"
   ]
  },
  {
   "cell_type": "code",
   "execution_count": 12,
   "metadata": {},
   "outputs": [],
   "source": [
    "import requests\n",
    "import re\n",
    "from bs4 import BeautifulSoup\n",
    "import pandas as pd"
   ]
  },
  {
   "cell_type": "markdown",
   "metadata": {},
   "source": [
    "### 先搜尋全部的電影代號(ID)資訊"
   ]
  },
  {
   "cell_type": "code",
   "execution_count": 13,
   "metadata": {},
   "outputs": [
    {
     "name": "stdout",
     "output_type": "stream",
     "text": [
      "                            電影名稱 ID編號\n",
      "0                       不完美的正義  10243\n",
      "1                               姊魅  10403\n",
      "2                         青春催落去  10404\n",
      "3           哥哥戀愛了，我怎麼辦！？  10414\n",
      "4     在黑暗中漫舞：20週年數位修復版  10428\n",
      "5               巧虎電影：英雄遊樂園  10429\n",
      "6                     然後我們跳了舞  10451\n",
      "7                   絕地戰警FOR LIFE  10242\n",
      "8                           重磅腥聞  10320\n",
      "9                 魯邦三世 The First  10355\n",
      "10       動畫電影版 我想吃掉你的胰臟  10377\n",
      "11                          鬼眼逼人  10379\n",
      "12                        逃出天堂島  10384\n",
      "13               Cunningham 機遇之舞  10385\n",
      "14                        星星知我心  10409\n",
      "15                            惡靈20  10444\n",
      "16                        大監獄行動  10450\n",
      "17                          兔嘲男孩  10283\n",
      "18                            那一夜  10345\n",
      "19                        真愛裁會贏  10362\n",
      "20                          驅魔直播  10375\n",
      "21                          別告訴她  10382\n",
      "22                  這一次不再錯過你  10389\n",
      "23                            菠蘿蜜  10412\n",
      "24                          霹靂嬌娃  10124\n",
      "25                          潛艦追緝  10333\n",
      "26                          舞力決戰  10344\n",
      "27                          竊竊屍語  10365\n",
      "28                          倒數計死  10390\n",
      "29                        大約在冬季  10408\n",
      "30              海上鋼琴師4K數位修復  10425\n",
      "31                            CATS貓  10166\n",
      "32                  白頭山：半島浩劫  10354\n",
      "33                    燃燒女子的畫像  10069\n",
      "34                              茱蒂  10112\n",
      "35                     葉問4：完結篇   9890\n",
      "36          STAR WARS : 天行者的崛起  10225\n",
      "37                        巴黎小情聖  10329\n",
      "38  假面騎士劇場版ZI-O Over Quartzer  10331\n",
      "39                          黑熊來了  10357\n",
      "40                              祭旗  10373\n",
      "41                        去年聖誕節  10256\n",
      "42                野蠻遊戲：全面晉級  10134\n",
      "43                        暴走曼哈頓  10044\n",
      "44                      布魯克林孤兒  10224\n",
      "45              懸案密碼前傳：瓶中信  10254\n",
      "46                          賽道狂人  10097\n",
      "47                          鋒迴路轉  10258\n",
      "48                    82年生的金智英  10298\n",
      "49                         冰雪奇緣2   9597\n",
      "50                       Hello World  10302\n",
      "51                          安眠醫生  10098\n",
      "52                  重甲機神：神降臨  10290\n",
      "53                          黑金叛徒  10321\n",
      "54              魔鬼終結者：黑暗宿命  10067\n",
      "55                          阿達一族   9992\n",
      "56                傻傻愛你，傻傻愛我  10075\n",
      "57                          陽光普照  10240\n",
      "58                      陪你很久很久  10160\n",
      "59                    失憶的總理大臣  10246\n",
      "60                          雙子殺手  10017\n",
      "61                          七個會議  10011\n",
      "62                          盲人律師  10267\n",
      "63                           黑魔女2  10262\n",
      "64                        江湖無難事  10241\n",
      "65                   電影版 壞傢伙們  10249\n",
      "66                              小丑   9949\n",
      "67                    囧媽的極地任務   7772\n",
      "68                          無間行動  10155\n",
      "69                          瞞天機密  10206\n",
      "70                            教父II  10289\n",
      "71                              返校  10109\n",
      "72                  從前，有個好萊塢   9884\n",
      "73                            獅子王   9116\n",
      "74                          寄生上流  10020\n",
      "75                       玩具總動員4   9924\n",
      "76                            毀滅者   9405\n",
      "77              庫爾斯克號：深海救援   9134\n",
      "78                          活個精彩   9394\n",
      "79                        苦兒流浪記   9538\n",
      "80                        厄夜追緝令   9589\n",
      "81                          限時好友   9578\n",
      "82                      祝你忌日快樂   9568\n",
      "83                  艾莉塔：戰鬥天使   8553\n",
      "84                         馴龍高手3   8350\n",
      "85                        幸福綠皮書   9150\n",
      "86    《新天堂樂園》25週年數位修復版   6201\n",
      "87                    一首搖滾上月球   4887\n",
      "88                         錢不夠用2   3026\n"
     ]
    }
   ],
   "source": [
    "# 查看目前上映那些電影，並擷取出其ID資訊\n",
    "url = 'https://movies.yahoo.com.tw/movie_intheaters.html'\n",
    "r = requests.get(url)\n",
    "r.encoding = 'utf-8'\n",
    "soup=BeautifulSoup(r.text,'lxml')\n",
    "regex='.*\">(\\d\\d?)<.*'\n",
    "pattern=re.compile(regex)\n",
    "regex2='http.*-(.*)'\n",
    "pattern2=re.compile(regex2)\n",
    "movies=[]\n",
    "ids=[]\n",
    "for movie in soup.find('ul',attrs={'class':'release_list'}).find_all('li'):\n",
    "    movieName=movie.find('div',attrs={'class':'release_movie_name'})\n",
    "    movies.append(movieName.a.string.lstrip())\n",
    "    movieId=re.match(pattern2,movieName.a['href']).group(1)\n",
    "    ids.append(str(movieId))\n",
    "    #print(movieName.a.string.lstrip()+'\\t'+movieId)\n",
    "for page in soup.find('div',attrs={'class':'page_numbox'}).find_all('li'):\n",
    "    result=re.match(pattern,str(page.find('a')))\n",
    "    if result:\n",
    "        url_page=url+'?page='+result[1]\n",
    "        r=requests.get(url_page)\n",
    "        soup_page=BeautifulSoup(r.text,'lxml')\n",
    "        for movie in soup_page.find('ul',attrs={'class':'release_list'}).find_all('li'):\n",
    "            movieName=movie.find('div',attrs={'class':'release_movie_name'})\n",
    "            movies.append(movieName.a.string.lstrip())\n",
    "            movieId=re.match(pattern2,movieName.a['href']).group(1)\n",
    "            ids.append(str(movieId))\n",
    "            #print(movieName.a.string.lstrip()+'\\t'+movieId)\n",
    "            \n",
    "dict={\n",
    "      '電影名稱':movies,\n",
    "      'ID編號':ids\n",
    "      }\n",
    "table=pd.DataFrame(dict)\n",
    "pd.set_option('display.unicode.ambiguous_as_wide', True)\n",
    "pd.set_option('display.unicode.east_asian_width', True)\n",
    "pd.set_option('display.max_columns', None)\n",
    "pd.set_option('display.max_rows', None)\n",
    "print(table)"
   ]
  },
  {
   "cell_type": "markdown",
   "metadata": {},
   "source": [
    "### 指定你有興趣的電影其ID，然後查詢其放映地區資訊。"
   ]
  },
  {
   "cell_type": "code",
   "execution_count": 14,
   "metadata": {},
   "outputs": [],
   "source": [
    "# 參考前一個步驟中擷取到的ID資訊，並指定ID\n",
    "movie_id = 9597"
   ]
  },
  {
   "cell_type": "code",
   "execution_count": 15,
   "metadata": {},
   "outputs": [
    {
     "name": "stdout",
     "output_type": "stream",
     "text": [
      "放映地區: 台北市, 代號(area_id): 28\n",
      "放映地區: 新北市, 代號(area_id): 8\n",
      "放映地區: 桃園, 代號(area_id): 16\n",
      "放映地區: 新竹, 代號(area_id): 20\n",
      "放映地區: 苗栗, 代號(area_id): 15\n",
      "放映地區: 台中, 代號(area_id): 2\n",
      "放映地區: 南投, 代號(area_id): 13\n",
      "放映地區: 台南, 代號(area_id): 10\n",
      "放映地區: 高雄, 代號(area_id): 17\n",
      "放映地區: 台東, 代號(area_id): 9\n",
      "放映地區: 澎湖, 代號(area_id): 23\n"
     ]
    }
   ],
   "source": [
    "url = 'https://movies.yahoo.com.tw/api/v1/areas_by_movie_theater'\n",
    "payload = {'movie_id':str(movie_id)}\n",
    "\n",
    "# 模擬一個header\n",
    "headers = {\n",
    "    'authority': 'movies.yahoo.com.tw',\n",
    "    'method': 'GET',\n",
    "    'path': '/api/v1/areas_by_movie_theater?movie_id=' + str(movie_id),\n",
    "    'scheme': 'https',\n",
    "    'accept': 'application/json, text/javascript, */*; q=0.01',\n",
    "    'accept-encoding': 'gzip, deflate, br',\n",
    "    'accept-language': 'zh-TW,zh;q=0.9,en-US;q=0.8,en;q=0.7,zh-CN;q=0.6',\n",
    "    'cookie': 'rxx=9s3x2fws06.1g16irnc&v=1; _ga=GA1.3.2056742944.1551651301; GUC=AQEBAQFczFpdm0IfmwSB&s=AQAAACoo4N5D&g=XMsVBw; BX=4hkdk1decm57t&b=3&s=mr; _ga=GA1.4.2056742944.1551651301; nexagesuid=82843256dd234e8e91aa73f2062f8218; browsed_movie=eyJpdiI6IlJXWWtiSWJaZlNGK2MxQnhscnVUYWc9PSIsInZhbHVlIjoiMXRhMmVHRXRIeUNjc1RBWDJzdGYwbnlIQURmWGsrcjJSMzhkbkcraDNJVUNIZEZsbzU3amlFcVZ1NzlmazJrTGpoMjVrbHk1YmpoRENXaHZTOUw1TmI2ZTZVWHdOejZQZm16RmVuMWlHTTJLaTZLVFZZVkFOMDlTd1wvSGltcytJIiwibWFjIjoiZWQ2ZjA4MmVjZmZlYjlmNjJmYmY2NGMyMDI0Njc0NWViYjVkOWE2NDg0N2RhODMxZjBjZDhiMmJhZTc2MDZhYiJ9; avi=eyJpdiI6Im1NeWFJRlVRWDR1endEcGRGUGJUbVE9PSIsInZhbHVlIjoickRpU3JuUytmcGl6cjF5OW0rNU9iZz09IiwibWFjIjoiY2VmY2NkNzZmM2NhNjY5YzlkOTcyNjE5OGEyMzU0NWYxOTdmMDRkMDY3OWNmMmZjOTMxYjc5MjI5N2Q5NGE5MiJ9; cmp=t=1559391030&j=0; _gid=GA1.4.779543841.1559391031; XSRF-TOKEN=eyJpdiI6IkhpS2hGcDRQaHlmWUJmaHdSS2Q2bHc9PSIsInZhbHVlIjoiOUVoNFk4OHI1UUZmUWRtYXhza0MyWjJSTlhlZ3RnT0VGeVJPN2JuczVRMGRFdWt2OUlsamVKeHRobFwvcHBGM0dhU3VyMXNGTHlsb2dVM2l0U1hpUGxBPT0iLCJtYWMiOiJkZWU4YzJhNjAxMTY3MzE4Y2ExNWIxYmE1ZjE1YWZlZTlhOTcyYjc4M2RlZGY4ZWNjZDYyMTA2NGYwZGViMzc2In0%3D; m_s=eyJpdiI6InpsZHZ2Tk1BZ0dxaHhETml1RjBnUXc9PSIsInZhbHVlIjoiSkNGeHUranRoXC85bDFiaDhySTJqNkJRcWdjWUxjeVRJSHVYZ1wvd2d4bWJZUTUrSHVDM0lUcW5KNHdETFZ4T1lieU81OUhzc1VoUXhZcWk0UDZSQXVFdz09IiwibWFjIjoiYmJkMDJkMDhlODIzMzcyMWY4M2NmYWNjNGVlOWRjMDIwZmVmNzAyMjE3Yzg3ZGY3ODBkZWEzZTI4MTI5ZWNmOSJ9; _gat=1; nexagesd=10',\n",
    "    'dnt': '1',\n",
    "    'mv-authorization': '21835b082e15b91a69b3851eec7b31b82ce82afb',\n",
    "    'referer': 'https://movies.yahoo.com.tw/',\n",
    "    'user-agent': 'Mozilla/5.0 (Windows NT 10.0; Win64; x64) AppleWebKit/537.36 (KHTML, like Gecko) Chrome/74.0.3729.169 Safari/537.36',\n",
    "    'x-requested-with': 'XMLHttpRequest',\n",
    "}\n",
    "    \n",
    "resp = requests.get(url, params=payload, headers=headers)\n",
    "#print(resp.json())  # 若有需要，列印出json原始碼\n",
    "\n",
    "# 這裡回傳的格式是JSON格式的資料，要解析JSON擷取資料\n",
    "for p in resp.json():\n",
    "    print('放映地區: {0}, 代號(area_id): {1}'.format(p['title'], p['area_id']))"
   ]
  },
  {
   "cell_type": "markdown",
   "metadata": {},
   "source": [
    "### 指定你想要觀看的放映地區，查詢有上映電影的場次日期"
   ]
  },
  {
   "cell_type": "code",
   "execution_count": 16,
   "metadata": {},
   "outputs": [],
   "source": [
    "# 指定放映地區\n",
    "area_id = 28"
   ]
  },
  {
   "cell_type": "code",
   "execution_count": 17,
   "metadata": {},
   "outputs": [
    {
     "name": "stdout",
     "output_type": "stream",
     "text": [
      "一月 20\n",
      "一月 21\n",
      "一月 22\n",
      "一月 23\n",
      "一月 24\n"
     ]
    }
   ],
   "source": [
    "# 向網站發送請求\n",
    "url = 'https://movies.yahoo.com.tw/movietime_result.html'\n",
    "payload = {'movie_id':str(movie_id), 'area_id':str(area_id)}\n",
    "resp = requests.get(url, params=payload)\n",
    "resp.encoding = 'utf-8'\n",
    "\n",
    "soup = BeautifulSoup(resp.text, 'lxml')\n",
    "movie_date = soup.find_all(\"label\", attrs={'for':re.compile(\"date_[\\d]\")})\n",
    "\n",
    "# 列印播放日期\n",
    "for date in movie_date:\n",
    "    print(\"%s %s\" % (date.p.string, date.h3.string))"
   ]
  },
  {
   "cell_type": "markdown",
   "metadata": {},
   "source": [
    "### 最後指定觀看的日期，查詢並列印出放映的電影院、放映類型(數位、3D、IMAX 3D...)、放映時間等資訊。"
   ]
  },
  {
   "cell_type": "code",
   "execution_count": 18,
   "metadata": {},
   "outputs": [],
   "source": [
    "# 選定要觀看的日期\n",
    "date = \"2020-01-21\""
   ]
  },
  {
   "cell_type": "code",
   "execution_count": 19,
   "metadata": {},
   "outputs": [],
   "source": [
    "# 向網站發送請求，獲取上映的電影院及時間資訊\n",
    "url = \"https://movies.yahoo.com.tw/ajax/pc/get_schedule_by_movie\"\n",
    "payload = {'movie_id':str(movie_id),\n",
    "           'date':date,\n",
    "           'area_id':str(area_id),\n",
    "           'theater_id':'',\n",
    "           'datetime':'',\n",
    "           'movie_type_id':''}\n",
    "\n",
    "resp = requests.get(url, params=payload)\n",
    "#print(resp.json()['view'])  # 若有需要，列印出json原始碼\n",
    "\n",
    "soup = BeautifulSoup(resp.json()['view'], 'lxml')\n",
    "html = soup.find_all(\"ul\", attrs={'data-theater_name':re.compile(\".*\")})"
   ]
  },
  {
   "cell_type": "code",
   "execution_count": 20,
   "metadata": {},
   "outputs": [
    {
     "name": "stdout",
     "output_type": "stream",
     "text": [
      "台北美麗華大直影城\n",
      "數位\n",
      "13:20\n",
      "16:50\n",
      "---------------------------------------------------------\n",
      "台北日新威秀影城\n",
      "數位\n",
      "14:25\n",
      "---------------------------------------------------------\n",
      "喜滿客絕色影城\n",
      "數位\n",
      "14:00\n",
      "17:30\n",
      "---------------------------------------------------------\n",
      "台北信義威秀影城\n",
      "數位\n",
      "09:50\n",
      "---------------------------------------------------------\n",
      "京站威秀影城\n",
      "數位\n",
      "11:30\n",
      "16:50\n",
      "---------------------------------------------------------\n",
      "喜樂時代影城南港店\n",
      "數位\n",
      "10:20\n",
      "14:50\n",
      "---------------------------------------------------------\n",
      "MUVIE CINEMAS台北松仁威秀\n",
      "數位\n",
      "09:45\n",
      "---------------------------------------------------------\n"
     ]
    }
   ],
   "source": [
    "'''\n",
    "\n",
    "  試著從上一步驟回傳的電影院資料中，擷取電影院名稱、影片放映類型以及時間表\n",
    "  \n",
    "  Your code here.\n",
    "\n",
    "'''\n",
    "for theater in html:\n",
    "    print(theater['data-theater_name'])\n",
    "    print(theater.find('span',class_='tapR').text)\n",
    "    for time in theater.find('div',class_='input_picker jq_input_picker').find_all('label'):\n",
    "        print(time.text)\n",
    "    print('---------------------------------------------------------')\n"
   ]
  },
  {
   "cell_type": "code",
   "execution_count": null,
   "metadata": {},
   "outputs": [],
   "source": []
  }
 ],
 "metadata": {
  "kernelspec": {
   "display_name": "Python 3",
   "language": "python",
   "name": "python3"
  },
  "language_info": {
   "codemirror_mode": {
    "name": "ipython",
    "version": 3
   },
   "file_extension": ".py",
   "mimetype": "text/x-python",
   "name": "python",
   "nbconvert_exporter": "python",
   "pygments_lexer": "ipython3",
   "version": "3.7.4"
  }
 },
 "nbformat": 4,
 "nbformat_minor": 2
}

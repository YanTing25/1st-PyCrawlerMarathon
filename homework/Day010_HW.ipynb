{
 "cells": [
  {
   "cell_type": "markdown",
   "metadata": {},
   "source": [
    "# 其他工具：Grab、PyQuery\n",
    "\n",
    "\n",
    "* 利用 Grab 套件的存取 HTML 資源\n",
    "* 利用 PyQuery 套件的解析 HTML 格式\n"
   ]
  },
  {
   "cell_type": "markdown",
   "metadata": {},
   "source": [
    "## 作業目標\n",
    "\n",
    "將之前用 requests + beatifulsoup 實作的方式，改寫成 grab + pyquery，並且比較有哪些地方不同。\n",
    "\n",
    "\n",
    "\n"
   ]
  },
  {
   "cell_type": "markdown",
   "metadata": {},
   "source": [
    "## requests + BeautifulSoup\n"
   ]
  },
  {
   "cell_type": "code",
   "execution_count": 3,
   "metadata": {},
   "outputs": [],
   "source": [
    "import requests\n",
    "from bs4 import BeautifulSoup\n"
   ]
  },
  {
   "cell_type": "code",
   "execution_count": 4,
   "metadata": {},
   "outputs": [
    {
     "name": "stdout",
     "output_type": "stream",
     "text": [
      "<!DOCTYPE html>\n",
      "<html lang=\"zh-Hant-TW\"><head itemscope=\"\" itemtype=\"https://schema.org/WebSite\" prefix=\"og: http://ogp.me/ns#\"><title data-react-helmet=\"true\">Dcard</title><meta content=\"https://www.dcard.tw/build/landing-c9e7b8fb.png\" data-react-helmet=\"true\" property=\"og:image\"/><meta content=\"https://www.dcard.tw/build/landing-c9e7b8fb.png\" data-react-helmet=\"true\" property=\"og:image:secure_url\"/><meta charset=\"utf-8\" data-react-helmet=\"true\"/><meta content=\"IE=edge\" data-react-helmet=\"true\" http-equiv=\"X-UA-Compatible\"/><meta content=\"Dcard\" data-react-helmet=\"true\" name=\"application-name\"/><meta content=\"app-id=951353454\" data-react-helmet=\"true\" name=\"apple-itunes-app\"/><meta content=\"#006aa6\" data-react-helmet=\"true\" name=\"theme-color\"/><meta content=\"yes\" data-react-helmet=\"true\" name=\"mobile-web-app-capable\"/><meta content=\"yes\" data-react-helmet=\"true\" name=\"apple-mobile-web-app-capable\"/><meta content=\"211628828926493\" data-react-helmet=\"true\" property=\"fb:app_id\"/><meta content=\"178875832200695,577748865730563,1333515469994506,619122564952487,804004803032067,178024805867764\" data-react-helmet=\"true\" property=\"fb:pages\"/><meta content=\"951353454\" data-react-helmet=\"true\" property=\"al:ios:app_store_id\"/><meta content=\"Dcard\" data-react-helmet=\"true\" property=\"al:ios:app_name\"/><meta content=\"com.sparkslab.dcardreader\" data-react-helmet=\"true\" property=\"al:android:package\"/><meta content=\"Dcard\" data-react-helmet=\"true\" property=\"al:android:app_name\"/><meta content=\"website\" data-react-helmet=\"true\" property=\"og:type\"/><meta content=\"Dcard\" data-react-helmet=\"true\" property=\"og:site_name\"/><meta content=\"Dcard\" data-react-helmet=\"true\" property=\"og:title\"/><meta content=\"https://www.dcard.tw/f\" data-react-helmet=\"true\" property=\"og:url\"/><meta content=\"廣受年輕人喜愛的  Dcard  是台灣最大的匿名交流平台，舉凡時事話題、感情心情、吃喝玩樂、學習工作等，都有卡友陪你聊！\" data-react-helmet=\"true\" name=\"description\"/><meta content=\"廣受年輕人喜愛的  Dcard  是台灣最大的匿名交流平台，舉凡時事話題、感情心情、吃喝玩樂、學習工作等，都有卡友陪你聊！\" data-react-helmet=\"true\" property=\"og:description\"/><meta content=\"dcard://category/all/全部/hot\" data-react-helmet=\"true\" property=\"al:ios:url\"/><meta content=\"dcard://category/all/全部/hot\" data-react-helmet=\"true\" property=\"al:android:url\"/><link data-react-helmet=\"true\" href=\"/build/favicon_32-44259074.png\" rel=\"icon\" sizes=\"32x32\" type=\"image/png\"/><link data-react-helmet=\"true\" href=\"/build/favicon_72-45b1e0ba.png\" rel=\"icon\" sizes=\"72x72\" type=\"image/png\"/><link data-react-helmet=\"true\" href=\"/build/favicon_512-8aee0703.png\" rel=\"icon\" sizes=\"512x512\" type=\"image/png\"/><link data-react-helmet=\"true\" href=\"/build/favicon_144-79557003.png\" rel=\"apple-touch-icon-precomposed\"/><link data-react-helmet=\"true\" href=\"/build/favicon_114-4a463b43.png\" rel=\"apple-touch-icon-precomposed\"/><link data-react-helmet=\"true\" href=\"/build/favicon_72-45b1e0ba.png\" rel=\"apple-touch-icon-precomposed\"/><link data-react-helmet=\"true\" href=\"/build/favicon_57-835f1693.png\" rel=\"apple-touch-icon-precomposed\"/><link data-react-helm=\"\"/></head></html>\n"
     ]
    }
   ],
   "source": [
    "'''\n",
    "Your Code\n",
    "'''\n",
    "url = 'https://www.dcard.tw/f'\n",
    "r=requests.get(url)\n",
    "r.encoding = 'utf-8'\n",
    "html=r.text[0:3000]\n",
    "soup=BeautifulSoup(html)\n",
    "print(soup)"
   ]
  },
  {
   "cell_type": "markdown",
   "metadata": {},
   "source": [
    "## Grab + PyQuery"
   ]
  },
  {
   "cell_type": "code",
   "execution_count": 5,
   "metadata": {},
   "outputs": [],
   "source": [
    "from grab import Grab\n",
    "from pyquery import PyQuery as pq"
   ]
  },
  {
   "cell_type": "code",
   "execution_count": 6,
   "metadata": {
    "scrolled": false
   },
   "outputs": [
    {
     "name": "stdout",
     "output_type": "stream",
     "text": [
      "<html lang=\"zh-Hant-TW\"><head prefix=\"og: http://ogp.me/ns#\" itemscope=\"\" itemtype=\"https://schema.org/WebSite\"><title data-react-helmet=\"true\">Dcard</title><meta data-react-helmet=\"true\" property=\"og:image\" content=\"https://www.dcard.tw/build/landing-c9e7b8fb.png\"/><meta data-react-helmet=\"true\" property=\"og:image:secure_url\" content=\"https://www.dcard.tw/build/landing-c9e7b8fb.png\"/><meta data-react-helmet=\"true\" charset=\"utf-8\"/><meta data-react-helmet=\"true\" http-equiv=\"X-UA-Compatible\" content=\"IE=edge\"/><meta data-react-helmet=\"true\" name=\"application-name\" content=\"Dcard\"/><meta data-react-helmet=\"true\" name=\"apple-itunes-app\" content=\"app-id=951353454\"/><meta data-react-helmet=\"true\" name=\"theme-color\" content=\"#006aa6\"/><meta data-react-helmet=\"true\" name=\"mobile-web-app-capable\" content=\"yes\"/><meta data-react-helmet=\"true\" name=\"apple-mobile-web-app-capable\" content=\"yes\"/><meta data-react-helmet=\"true\" property=\"fb:app_id\" content=\"211628828926493\"/><meta data-react-helmet=\"true\" property=\"fb:pages\" content=\"178875832200695,577748865730563,1333515469994506,619122564952487,804004803032067,178024805867764\"/><meta data-react-helmet=\"true\" property=\"al:ios:app_store_id\" content=\"951353454\"/><meta data-react-helmet=\"true\" property=\"al:ios:app_name\" content=\"Dcard\"/><meta data-react-helmet=\"true\" property=\"al:android:package\" content=\"com.sparkslab.dcardreader\"/><meta data-react-helmet=\"true\" property=\"al:android:app_name\" content=\"Dcard\"/><meta data-react-helmet=\"true\" property=\"og:type\" content=\"website\"/><meta data-react-helmet=\"true\" property=\"og:site_name\" content=\"Dcard\"/><meta data-react-helmet=\"true\" property=\"og:title\" content=\"Dcard\"/><meta data-react-helmet=\"true\" property=\"og:url\" content=\"https://www.dcard.tw/f\"/><meta data-react-helmet=\"true\" name=\"description\" content=\"廣受年輕人喜愛的  Dcard  是台灣最大的匿名交流平台，舉凡時事話題、感情心情、吃喝玩樂、學習工作等，都有卡友陪你聊！\"/><meta data-react-helmet=\"true\" property=\"og:description\" content=\"廣受年輕人喜愛的  Dcard  是台灣最大的匿名交流平台，舉凡時事話題、感情心情、吃喝玩樂、學習工作等，都有卡友陪你聊！\"/><meta data-react-helmet=\"true\" property=\"al:ios:url\" content=\"dcard://category/all/全部/hot\"/><meta data-react-helmet=\"true\" property=\"al:android:url\" content=\"dcard://category/all/全部/hot\"/><link data-react-helmet=\"true\" rel=\"icon\" sizes=\"32x32\" type=\"image/png\" href=\"/build/favicon_32-44259074.png\"/><link data-react-helmet=\"true\" rel=\"icon\" sizes=\"72x72\" type=\"image/png\" href=\"/build/favicon_72-45b1e0ba.png\"/><link data-react-helmet=\"true\" rel=\"icon\" sizes=\"512x512\" type=\"image/png\" href=\"/build/favicon_512-8aee0703.png\"/><link data-react-helmet=\"true\" rel=\"apple-touch-icon-precomposed\" href=\"/build/favicon_144-79557003.png\"/><link data-react-helmet=\"true\" rel=\"apple-touch-icon-precomposed\" href=\"/build/favicon_114-4a463b43.png\"/><link data-reac=\"\"/></head></html>\n"
     ]
    }
   ],
   "source": [
    "'''\n",
    "Your Code\n",
    "'''\n",
    "\n",
    "g=Grab()\n",
    "response=g.go(url)\n",
    "html=response.body[0:3000]\n",
    "\n",
    "doc=pq(html)\n",
    "print(doc)"
   ]
  },
  {
   "cell_type": "code",
   "execution_count": null,
   "metadata": {},
   "outputs": [],
   "source": []
  }
 ],
 "metadata": {
  "kernelspec": {
   "display_name": "Python 3",
   "language": "python",
   "name": "python3"
  },
  "language_info": {
   "codemirror_mode": {
    "name": "ipython",
    "version": 3
   },
   "file_extension": ".py",
   "mimetype": "text/x-python",
   "name": "python",
   "nbconvert_exporter": "python",
   "pygments_lexer": "ipython3",
   "version": "3.7.4"
  }
 },
 "nbformat": 4,
 "nbformat_minor": 2
}
